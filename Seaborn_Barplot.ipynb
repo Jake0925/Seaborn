{
  "nbformat": 4,
  "nbformat_minor": 0,
  "metadata": {
    "colab": {
      "name": "Seaborn_Barplot.ipynb",
      "provenance": [],
      "collapsed_sections": [],
      "authorship_tag": "ABX9TyMcJ8GD1mUFcHfQMTSrSg9M",
      "include_colab_link": true
    },
    "kernelspec": {
      "name": "python3",
      "display_name": "Python 3"
    }
  },
  "cells": [
    {
      "cell_type": "markdown",
      "metadata": {
        "id": "view-in-github",
        "colab_type": "text"
      },
      "source": [
        "<a href=\"https://colab.research.google.com/github/Jake0925/Seaborn/blob/master/Seaborn_Barplot.ipynb\" target=\"_parent\"><img src=\"https://colab.research.google.com/assets/colab-badge.svg\" alt=\"Open In Colab\"/></a>"
      ]
    },
    {
      "cell_type": "code",
      "metadata": {
        "id": "YW_e2kTm7g0B"
      },
      "source": [
        "import numpy as np\r\n",
        "import seaborn as sns\r\n",
        "import matplotlib.pyplot as plt\r\n",
        "sns.set(style='whitegrid', context='talk') # style - 그리드 색상 ex white, whitegrid,   context - 폰트"
      ],
      "execution_count": 2,
      "outputs": []
    },
    {
      "cell_type": "code",
      "metadata": {
        "colab": {
          "base_uri": "https://localhost:8080/"
        },
        "id": "hxND1LYn8CMX",
        "outputId": "c12cecc5-f1b9-405b-c024-4e754b0c10d4"
      },
      "source": [
        "rs=np.random.RandomState(8)  # 값은 랜덤하지만 다시 호출하더라도 같은 값이 호출되게한다\r\n",
        "rs"
      ],
      "execution_count": 3,
      "outputs": [
        {
          "output_type": "execute_result",
          "data": {
            "text/plain": [
              "RandomState(MT19937) at 0x7FA0D8441678"
            ]
          },
          "metadata": {
            "tags": []
          },
          "execution_count": 3
        }
      ]
    },
    {
      "cell_type": "code",
      "metadata": {
        "colab": {
          "base_uri": "https://localhost:8080/"
        },
        "id": "nxcqVoCK8yrX",
        "outputId": "8f681228-b7b7-4266-853a-09fc0f6ad940"
      },
      "source": [
        "x = np.array(list('ABCDEFGHIJ')) # list를 numpy의 array로 변환\r\n",
        "x"
      ],
      "execution_count": 4,
      "outputs": [
        {
          "output_type": "execute_result",
          "data": {
            "text/plain": [
              "array(['A', 'B', 'C', 'D', 'E', 'F', 'G', 'H', 'I', 'J'], dtype='<U1')"
            ]
          },
          "metadata": {
            "tags": []
          },
          "execution_count": 4
        }
      ]
    },
    {
      "cell_type": "code",
      "metadata": {
        "colab": {
          "base_uri": "https://localhost:8080/"
        },
        "id": "4CSgzvAO9TmL",
        "outputId": "387df1da-dffa-448e-e237-fe30eeef8a52"
      },
      "source": [
        "y1 = np.arange(1,11)\r\n",
        "y1"
      ],
      "execution_count": 5,
      "outputs": [
        {
          "output_type": "execute_result",
          "data": {
            "text/plain": [
              "array([ 1,  2,  3,  4,  5,  6,  7,  8,  9, 10])"
            ]
          },
          "metadata": {
            "tags": []
          },
          "execution_count": 5
        }
      ]
    },
    {
      "cell_type": "code",
      "metadata": {
        "colab": {
          "base_uri": "https://localhost:8080/",
          "height": 297
        },
        "id": "QWO6UjGd9gA1",
        "outputId": "af2224d7-57da-4a52-9f2a-9732fc5ba17c"
      },
      "source": [
        "# palette - 막대색상설정\r\n",
        "#sns.barplot(x=x,y=y1)\r\n",
        "sns.barplot(x=x,y=y1, palette='rocket')  # 진한색상에서 옅은색상의 막대로 변경"
      ],
      "execution_count": 6,
      "outputs": [
        {
          "output_type": "execute_result",
          "data": {
            "text/plain": [
              "<matplotlib.axes._subplots.AxesSubplot at 0x7fa0c8816a58>"
            ]
          },
          "metadata": {
            "tags": []
          },
          "execution_count": 6
        },
        {
          "output_type": "display_data",
          "data": {
            "image/png": "[encoded data removed]",
            "text/plain": [
              "<Figure size 432x288 with 1 Axes>"
            ]
          },
          "metadata": {
            "tags": []
          }
        }
      ]
    },
    {
      "cell_type": "code",
      "metadata": {
        "colab": {
          "base_uri": "https://localhost:8080/",
          "height": 297
        },
        "id": "PZKSttII92lY",
        "outputId": "ee1e0d3a-d618-4da2-cedf-2205d025ce5d"
      },
      "source": [
        "# axhline - 수평으로 라인을 그린다\r\n",
        "sns.barplot(x=x,y=y1, palette='rocket').axhline(3, color=\"k\", clip_on=False) "
      ],
      "execution_count": 7,
      "outputs": [
        {
          "output_type": "execute_result",
          "data": {
            "text/plain": [
              "<matplotlib.lines.Line2D at 0x7fa0c809f400>"
            ]
          },
          "metadata": {
            "tags": []
          },
          "execution_count": 7
        },
        {
          "output_type": "display_data",
          "data": {
            "image/png": "[encoded data removed]",
            "text/plain": [
              "<Figure size 432x288 with 1 Axes>"
            ]
          },
          "metadata": {
            "tags": []
          }
        }
      ]
    },
    {
      "cell_type": "code",
      "metadata": {
        "colab": {
          "base_uri": "https://localhost:8080/"
        },
        "id": "Lbw_qdF8DYTb",
        "outputId": "d935ad48-7760-491f-bbcf-3b3fa891bff9"
      },
      "source": [
        "y2 = y1 - 5.5\r\n",
        "y2"
      ],
      "execution_count": 8,
      "outputs": [
        {
          "output_type": "execute_result",
          "data": {
            "text/plain": [
              "array([-4.5, -3.5, -2.5, -1.5, -0.5,  0.5,  1.5,  2.5,  3.5,  4.5])"
            ]
          },
          "metadata": {
            "tags": []
          },
          "execution_count": 8
        }
      ]
    },
    {
      "cell_type": "code",
      "metadata": {
        "colab": {
          "base_uri": "https://localhost:8080/",
          "height": 297
        },
        "id": "NYUQAzyyEFt-",
        "outputId": "a6f1b032-7fe5-49c2-f48e-06443364ac2d"
      },
      "source": [
        "sns.barplot(x=x,y=y2, palette='vlag') # vlag '-'값은 파란색으로 '+'값은 붉은색으로 표시"
      ],
      "execution_count": 9,
      "outputs": [
        {
          "output_type": "execute_result",
          "data": {
            "text/plain": [
              "<matplotlib.axes._subplots.AxesSubplot at 0x7fa0c7abacf8>"
            ]
          },
          "metadata": {
            "tags": []
          },
          "execution_count": 9
        },
        {
          "output_type": "display_data",
          "data": {
            "image/png": "[encoded data removed]",
            "text/plain": [
              "<Figure size 432x288 with 1 Axes>"
            ]
          },
          "metadata": {
            "tags": []
          }
        }
      ]
    },
    {
      "cell_type": "code",
      "metadata": {
        "colab": {
          "base_uri": "https://localhost:8080/"
        },
        "id": "5eZcqpQ4EO4b",
        "outputId": "ba1d34e1-9a67-49a6-8e3e-908b8d8bb333"
      },
      "source": [
        "y3 = rs.choice(y1, len(y1), replace=False) # choice-같은 값이 아닌 다른 랜덤값을 같는다\r\n",
        "y3"
      ],
      "execution_count": 10,
      "outputs": [
        {
          "output_type": "execute_result",
          "data": {
            "text/plain": [
              "array([ 9,  7, 10,  1,  3,  6,  8,  2,  5,  4])"
            ]
          },
          "metadata": {
            "tags": []
          },
          "execution_count": 10
        }
      ]
    },
    {
      "cell_type": "code",
      "metadata": {
        "colab": {
          "base_uri": "https://localhost:8080/",
          "height": 279
        },
        "id": "faF6hbgwFS__",
        "outputId": "d5f06301-7ba4-47c3-a104-91ef677ba68e"
      },
      "source": [
        "sns.barplot(x=x, y=y3, palette='deep').set_ylabel(\"Qualitative\") # set_ylabel - Y축에 이름설정\r\n",
        "sns.despine(bottom=True) # 그래프 박스외곽부의 상하라인 제거 "
      ],
      "execution_count": 11,
      "outputs": [
        {
          "output_type": "display_data",
          "data": {
            "image/png": "[encoded data removed]",
            "text/plain": [
              "<Figure size 432x288 with 1 Axes>"
            ]
          },
          "metadata": {
            "tags": []
          }
        }
      ]
    },
    {
      "cell_type": "code",
      "metadata": {
        "id": "3AzfXdGoFzxJ",
        "outputId": "8b0429d2-6ab5-4862-d6ff-8c295c2122d9",
        "colab": {
          "base_uri": "https://localhost:8080/",
          "height": 297
        }
      },
      "source": [
        "# order - 원하는 순서데로 인덱스 변경\r\n",
        "\r\n",
        "sns.barplot(x=x,y=y2, palette='vlag',order=['J','A','B','C','D','E','F','G','H','I'])"
      ],
      "execution_count": 14,
      "outputs": [
        {
          "output_type": "execute_result",
          "data": {
            "text/plain": [
              "<matplotlib.axes._subplots.AxesSubplot at 0x7fa0beffaac8>"
            ]
          },
          "metadata": {
            "tags": []
          },
          "execution_count": 14
        },
        {
          "output_type": "display_data",
          "data": {
            "image/png": "[encoded data removed]",
            "text/plain": [
              "<Figure size 432x288 with 1 Axes>"
            ]
          },
          "metadata": {
            "tags": []
          }
        }
      ]
    },
    {
      "cell_type": "code",
      "metadata": {
        "id": "_AlPUIB94QYe"
      },
      "source": [
        ""
      ],
      "execution_count": 12,
      "outputs": []
    }
  ]
}